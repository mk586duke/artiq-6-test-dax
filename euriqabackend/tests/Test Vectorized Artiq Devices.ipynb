{
 "cells": [
  {
   "cell_type": "code",
   "execution_count": 12,
   "metadata": {},
   "outputs": [],
   "source": [
    "import types\n",
    "import functools\n",
    "import itertools\n",
    "import logging\n",
    "\n",
    "def vector_map_wrapper(func, var):\n",
    "    @functools.wraps(func)\n",
    "    def _vec_map_wrapper(*args):\n",
    "        # applies the given function to all self.var\n",
    "        # todo: apply arguments to other\n",
    "        wrapped_objs = getattr(args[0], var)\n",
    "        logging.warning(\"Wrapping {} with value {}\".format(func, wrapped_objs))\n",
    "        return list(map(func, getattr(args[0], var)))\n",
    "\n",
    "    return _vec_map_wrapper\n",
    "\n",
    "\n",
    "class MetaChannelGrouper(type):\n",
    "\n",
    "    def __new__(meta, classname, bases, namespace, **kwargs):\n",
    "        new_namespace = {}\n",
    "        for b in bases:\n",
    "            print(\"Found base {}\".format(b))\n",
    "            print(b.__dict__)\n",
    "        vector_variable = kwargs.get(\"vector_variable\", \"channels\")\n",
    "        for attribute_name, attribute in namespace.items():\n",
    "            logging.warning(\"Found %s attribute\", attribute_name)\n",
    "            if isinstance(attribute, types.FunctionType) and attribute_name != \"__init__\":\n",
    "                # replace it with a wrapped version\n",
    "                logging.warning(\"Wrapping {}\".format(attribute_name))\n",
    "                \n",
    "                attribute = vector_map_wrapper(attribute, vector_variable)\n",
    "            new_namespace[attribute_name] = attribute\n",
    "        new_class = type.__new__(meta, classname, bases, new_namespace)\n",
    "        print(new_class.sqr)\n",
    "        print(super(new_class.__class__, new_class))\n",
    "        \n",
    "        return new_class\n",
    "\n",
    "class MetaChannelGrouper2(type):\n",
    "    def __new__(meta, classname, bases, namespace, **kwargs):\n",
    "        print(\"\\n\\nMetaChannelGrouper2\")\n",
    "        new_namespace= {}\n",
    "        vector_variable = kwargs.get(\"vector_variable\", \"channels\")\n",
    "        for b in bases:\n",
    "            print(b.__dict__)\n",
    "        \n",
    "        items = itertools.chain.from_iterable(b.__dict__.items() for b in bases)\n",
    "        print(items)\n",
    "        for attribute_name, attribute in items:\n",
    "            logging.warning(\"Found %s attribute %s\", attribute_name, attribute)\n",
    "            if isinstance(attribute, types.FunctionType) and attribute_name != \"__init__\":\n",
    "                # replace function with vectorized version\n",
    "                logging.warning(\"Wrapping %s\", attribute_name)\n",
    "                \n",
    "                attribute = vector_map_wrapper(attribute, vector_variable)\n",
    "            new_namespace[attribute_name] = attribute\n",
    "            \n",
    "        new_class = type.__new__(meta, classname, bases, new_namespace)\n",
    "        print(\"Created class with attrs: {}\".format(new_class.__dict__))\n",
    "        for b in bases:\n",
    "            print(\"new_class is instanceof({}): {}\".format(b, isinstance(new_class, b)))\n",
    "        return new_class\n",
    "\n",
    "\n",
    "logging.basicConfig(level=logging.DEBUG)"
   ]
  },
  {
   "cell_type": "code",
   "execution_count": 21,
   "metadata": {},
   "outputs": [
    {
     "name": "stderr",
     "output_type": "stream",
     "text": [
      "WARNING:root:Found __init__ attribute\n",
      "WARNING:root:Found channels attribute\n",
      "WARNING:root:Found __qualname__ attribute\n",
      "WARNING:root:Found __module__ attribute\n",
      "WARNING:root:Found __dict__ attribute <attribute '__dict__' of 'TestSimple' objects>\n",
      "WARNING:root:Found __weakref__ attribute <attribute '__weakref__' of 'TestSimple' objects>\n",
      "WARNING:root:Found __init__ attribute <function TestSimple.__init__ at 0x00000146B0BF7730>\n",
      "WARNING:root:Found sqr attribute <function TestSimple.sqr at 0x00000146B0BF7400>\n",
      "WARNING:root:Wrapping sqr\n",
      "WARNING:root:Found __doc__ attribute None\n",
      "WARNING:root:Found __module__ attribute __main__\n"
     ]
    },
    {
     "name": "stdout",
     "output_type": "stream",
     "text": [
      "Found base <class '__main__.TestSimple'>\n",
      "{'__dict__': <attribute '__dict__' of 'TestSimple' objects>, '__weakref__': <attribute '__weakref__' of 'TestSimple' objects>, '__init__': <function TestSimple.__init__ at 0x00000146B0BF7730>, 'sqr': <function TestSimple.sqr at 0x00000146B0BF7400>, '__doc__': None, '__module__': '__main__'}\n",
      "<function TestSimple.sqr at 0x00000146B0BF7400>\n",
      "<super: <class 'MetaChannelGrouper'>, <MetaChannelGrouper object>>\n",
      "\n",
      "\n",
      "MetaChannelGrouper2\n",
      "{'__dict__': <attribute '__dict__' of 'TestSimple' objects>, '__weakref__': <attribute '__weakref__' of 'TestSimple' objects>, '__init__': <function TestSimple.__init__ at 0x00000146B0BF7730>, 'sqr': <function TestSimple.sqr at 0x00000146B0BF7400>, '__doc__': None, '__module__': '__main__'}\n",
      "<itertools.chain object at 0x00000146B0C007F0>\n",
      "Created class with attrs: {'__dict__': <attribute '__dict__' of 'TestSimple' objects>, '__weakref__': <attribute '__weakref__' of 'TestSimple' objects>, '__init__': <function TestSimple.__init__ at 0x00000146B0BF7730>, 'sqr': <function TestSimple.sqr at 0x00000146B0BEF268>, '__doc__': None, '__module__': '__main__'}\n",
      "new_class is instanceof(<class '__main__.TestSimple'>): False\n"
     ]
    }
   ],
   "source": [
    "import numpy as np\n",
    "import traceback as tb\n",
    "class TestSimple:\n",
    "    def __init__(self, val):\n",
    "        self.val = val\n",
    "    def sqr(self):\n",
    "        return self.val ** 2\n",
    "\n",
    "class TestVec1(TestSimple, metaclass=MetaChannelGrouper):\n",
    "    channels = [TestSimple(1), TestSimple(4), TestSimple(9)]\n",
    "    \n",
    "    def __init__(self):\n",
    "        pass\n",
    "\n",
    "class TestVec2(TestSimple, metaclass=MetaChannelGrouper2):\n",
    "    channels = [TestSimple(1), TestSimple(4), TestSimple(9)]\n",
    "    \n",
    "    def __init__(self):\n",
    "        pass"
   ]
  },
  {
   "cell_type": "code",
   "execution_count": 22,
   "metadata": {},
   "outputs": [
    {
     "name": "stdout",
     "output_type": "stream",
     "text": [
      "True\n"
     ]
    },
    {
     "name": "stderr",
     "output_type": "stream",
     "text": [
      "Traceback (most recent call last):\n",
      "  File \"<ipython-input-22-28a536886796>\", line 5, in <module>\n",
      "    t2 = TestVec2()\n",
      "TypeError: __init__() missing 1 required positional argument: 'val'\n"
     ]
    }
   ],
   "source": [
    "t1 = TestVec1()\n",
    "print(isinstance(t1, TestSimple))\n",
    "\n",
    "try:\n",
    "    t2 = TestVec2()\n",
    "    print(isinstance(t2, TestSimple))\n",
    "except TypeError:\n",
    "    tb.print_exc()"
   ]
  },
  {
   "cell_type": "code",
   "execution_count": 24,
   "metadata": {},
   "outputs": [
    {
     "name": "stdout",
     "output_type": "stream",
     "text": [
      ">> pre\n",
      "<< post\n"
     ]
    },
    {
     "data": {
      "text/plain": [
       "[1, 9, 25]"
      ]
     },
     "execution_count": 24,
     "metadata": {},
     "output_type": "execute_result"
    }
   ],
   "source": [
    "class VectorWrapper(object):\n",
    "    # assumes all objects have same methods as first\n",
    "    def __init__(self, wrapped_objs):\n",
    "        self.wrapped_objs = wrapped_objs\n",
    "        \n",
    "    def __getattr__(self, attr):\n",
    "        orig_attr = self.wrapped_objs[0].__getattribute__(attr)\n",
    "        if callable(orig_attr):\n",
    "            def hooked(*args, **kwargs):\n",
    "                self.pre()\n",
    "                \n",
    "                result = [wo.__getattribute__(attr)(*args, **kwargs) for wo in self.wrapped_objs]\n",
    "                # prevent wrapped class from becoming unwrapped\n",
    "#                 if result == self.wrapped_class:\n",
    "#                     return self\n",
    "                self.post()\n",
    "                return result\n",
    "            return hooked\n",
    "        else:\n",
    "            return orig_attr\n",
    "        \n",
    "    def pre(self):\n",
    "        print(\">> pre\")\n",
    "    \n",
    "    def post(self):\n",
    "        print(\"<< post\")\n",
    "\n",
    "t3 = VectorWrapper([TestSimple(1), TestSimple(3), TestSimple(5)])\n",
    "t3.sqr()"
   ]
  },
  {
   "cell_type": "code",
   "execution_count": 3,
   "metadata": {},
   "outputs": [
    {
     "ename": "NameError",
     "evalue": "name 'TestVec' is not defined",
     "output_type": "error",
     "traceback": [
      "\u001b[1;31m---------------------------------------------------------------------------\u001b[0m",
      "\u001b[1;31mNameError\u001b[0m                                 Traceback (most recent call last)",
      "\u001b[1;32m<ipython-input-3-0fb981f6d40d>\u001b[0m in \u001b[0;36m<module>\u001b[1;34m()\u001b[0m\n\u001b[1;32m----> 1\u001b[1;33m \u001b[0mprint\u001b[0m\u001b[1;33m(\u001b[0m\u001b[1;33m[\u001b[0m\u001b[0mc\u001b[0m\u001b[1;33m.\u001b[0m\u001b[0mval\u001b[0m \u001b[1;32mfor\u001b[0m \u001b[0mc\u001b[0m \u001b[1;32min\u001b[0m \u001b[0mTestVec\u001b[0m\u001b[1;33m.\u001b[0m\u001b[0mchannels\u001b[0m\u001b[1;33m]\u001b[0m\u001b[1;33m)\u001b[0m\u001b[1;33m\u001b[0m\u001b[0m\n\u001b[0m\u001b[0;32m      2\u001b[0m \u001b[0mc\u001b[0m \u001b[1;33m=\u001b[0m \u001b[0mTestVec1\u001b[0m\u001b[1;33m(\u001b[0m\u001b[1;33m)\u001b[0m\u001b[1;33m\u001b[0m\u001b[0m\n\u001b[0;32m      3\u001b[0m \u001b[1;33m\u001b[0m\u001b[0m\n\u001b[0;32m      4\u001b[0m \u001b[0mc\u001b[0m\u001b[1;33m.\u001b[0m\u001b[0msqr\u001b[0m\u001b[1;33m(\u001b[0m\u001b[0mc\u001b[0m\u001b[1;33m.\u001b[0m\u001b[0mchannels\u001b[0m\u001b[1;33m)\u001b[0m\u001b[1;33m\u001b[0m\u001b[0m\n",
      "\u001b[1;31mNameError\u001b[0m: name 'TestVec' is not defined"
     ]
    }
   ],
   "source": [
    "print([c.val for c in TestVec.channels])\n",
    "c = TestVec1()\n",
    "\n",
    "c.sqr(c.channels)"
   ]
  },
  {
   "cell_type": "code",
   "execution_count": null,
   "metadata": {},
   "outputs": [],
   "source": [
    "print(c.__class__)\n",
    "g"
   ]
  },
  {
   "cell_type": "code",
   "execution_count": 39,
   "metadata": {},
   "outputs": [
    {
     "ename": "NameError",
     "evalue": "",
     "output_type": "error",
     "traceback": [
      "\u001b[1;31m---------------------------------------------------------------------------\u001b[0m",
      "\u001b[1;31mNameError\u001b[0m                                 Traceback (most recent call last)",
      "\u001b[1;32m<ipython-input-39-1d90210dd9ab>\u001b[0m in \u001b[0;36m<module>\u001b[1;34m()\u001b[0m\n\u001b[1;32m----> 1\u001b[1;33m \u001b[1;32mraise\u001b[0m \u001b[0mNameError\u001b[0m\u001b[1;33m(\u001b[0m\u001b[1;33m)\u001b[0m\u001b[1;33m\u001b[0m\u001b[0m\n\u001b[0m",
      "\u001b[1;31mNameError\u001b[0m: "
     ]
    }
   ],
   "source": [
    "raise NameError()"
   ]
  },
  {
   "cell_type": "code",
   "execution_count": null,
   "metadata": {},
   "outputs": [],
   "source": []
  }
 ],
 "metadata": {
  "kernelspec": {
   "display_name": "Python 3",
   "language": "python",
   "name": "python3"
  },
  "language_info": {
   "codemirror_mode": {
    "name": "ipython",
    "version": 3
   },
   "file_extension": ".py",
   "mimetype": "text/x-python",
   "name": "python",
   "nbconvert_exporter": "python",
   "pygments_lexer": "ipython3",
   "version": "3.5.3"
  }
 },
 "nbformat": 4,
 "nbformat_minor": 2
}
