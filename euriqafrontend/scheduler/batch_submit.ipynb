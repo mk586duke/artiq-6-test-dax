{
 "cells": [
  {
   "cell_type": "code",
   "execution_count": 2,
   "metadata": {
    "collapsed": false
   },
   "outputs": [
    {
     "name": "stdout",
     "output_type": "stream",
     "text": [
      "Populating the interactive namespace from numpy and matplotlib\n"
     ]
    }
   ],
   "source": [
    "%pylab inline\n",
    "\n",
    "import os\n",
    "import logging\n",
    "import time\n",
    "import asyncio\n",
    "import datetime\n",
    "import glob\n",
    "import pathlib\n",
    "from pprint import pprint\n",
    "from shutil import copyfile\n",
    "\n",
    "import numpy as np\n",
    "np.set_printoptions(precision=3)\n",
    "import matplotlib.pyplot as plt\n",
    "import seaborn\n",
    "seaborn.set_style(\"whitegrid\")\n",
    "import pandas as pd\n",
    "import h5py\n",
    "\n",
    "from artiq.master.databases import DeviceDB\n",
    "from artiq.master.worker_db import DeviceManager\n",
    "from sipyco.pc_rpc import (Client, AsyncioClient,\n",
    "                                    BestEffortClient, AutoTarget)\n",
    "import sipyco.pyon as pyon"
   ]
  },
  {
   "cell_type": "code",
   "execution_count": 115,
   "metadata": {
    "collapsed": false
   },
   "outputs": [
    {
     "name": "stdout",
     "output_type": "stream",
     "text": [
      "Available experiments are:\n",
      "Autoload_01ions\n",
      "CheckDZ_15ions\n",
      "Check_center_15ions\n",
      "Circuit_15ions\n",
      "Autoload_15ions\n",
      "Check_radial_15ions\n",
      "Check_axial_15ions\n",
      "Check_high_radial_15ions\n",
      "Check_alive_15ions\n"
     ]
    }
   ],
   "source": [
    "# Load experiment prototypes from Q://\n",
    "base_dir = pathlib.Path(r\"//EURIQA-NAS/lab/CompactTrappedIonModule\")\n",
    "prototype_path = base_dir / \"ARTIQ/experiment_prototypes\"\n",
    "\n",
    "experiments = dict()\n",
    "for i, exp in enumerate(os.listdir(str(prototype_path))):\n",
    "    file = h5py.File(str(prototype_path / exp),\"r\")                    \n",
    "    name = exp.split(\".\",1)[0]\n",
    "    experiments[name] = dict()\n",
    "    experiments[name][\"expid\"] = pyon.decode(file[\"expid\"].value) \n",
    "    \n",
    "print(\"Available experiments are:\")\n",
    "for i in list(experiments.keys()):\n",
    "    print(i)"
   ]
  },
  {
   "cell_type": "code",
   "execution_count": 3,
   "metadata": {
    "collapsed": false
   },
   "outputs": [
    {
     "name": "stdout",
     "output_type": "stream",
     "text": [
      "Number of Circuits Loaded: 50\n",
      "Attemping to run as 5 batchs of size 10\n"
     ]
    }
   ],
   "source": [
    "# Load Circuit List\n",
    "circuit_path = base_dir / \"Data/Circuits/2019/06_2019/27_06_2019_RB_groundIdle/single_q_83\"\n",
    "circuit_list = []\n",
    "for filename in circuit_path.glob('*/circuit*'):\n",
    "    # Ignore Qubits 1 and 15  (zero-indexed)\n",
    "    # if not (\"qubit_14\" in str(filename) or \"qubit_00\" in str(filename)) :\n",
    "    if \"qubit_08\" in str(filename) :\n",
    "        circuit_list.append(filename)\n",
    "\n",
    "num_circuits = len(circuit_list)\n",
    "print(\"Number of Circuits Loaded: {0}\".format(num_circuits))\n",
    "\n",
    "batch_size = 10\n",
    "num_batches = num_circuits/batch_size\n",
    "if num_batches%1 > 0:\n",
    "    num_batches =+1\n",
    "num_batches = int(np.floor(num_batches))\n",
    "\n",
    "batch_list = []\n",
    "for i in range(num_batches):\n",
    "    if i< num_batches-1:\n",
    "        batch_list.append(circuit_list[i*batch_size:i*batch_size+batch_size])\n",
    "    else:\n",
    "        batch_list.append(circuit_list[i*batch_size:])\n",
    "print(\"Attemping to run as {0} batchs of size {1}\".format(num_batches,batch_size))\n"
   ]
  },
  {
   "cell_type": "code",
   "execution_count": 4,
   "metadata": {
    "collapsed": false
   },
   "outputs": [],
   "source": [
    "# Specify folders \n",
    "artiq_data_path =  base_dir / \"Data/artiq_data/2019-07-01\"\n",
    "save_folder = base_dir / \"Data/2019/06_2019/30_06_2019/rb_singlequbit/\"\n",
    "if not os.path.exists(str(save_folder)):\n",
    "    os.mkdir(str(save_folder))"
   ]
  },
  {
   "cell_type": "code",
   "execution_count": 126,
   "metadata": {
    "collapsed": false
   },
   "outputs": [],
   "source": [
    "# let's connect to the master\n",
    "master_ip = \"192.168.78.144\"\n",
    "schedule, exps, datasets = [\n",
    "    Client(master_ip, 3251, \"master_\" + i) for i in\n",
    "    \"schedule experiment_db dataset_db\".split()]\n"
   ]
  },
  {
   "cell_type": "code",
   "execution_count": 6,
   "metadata": {
    "collapsed": true
   },
   "outputs": [],
   "source": [
    "failed_batches =[]"
   ]
  },
  {
   "cell_type": "code",
   "execution_count": null,
   "metadata": {
    "collapsed": false
   },
   "outputs": [
    {
     "name": "stdout",
     "output_type": "stream",
     "text": [
      "Batch 0 succeeded!\n",
      "Copying data and circuits to \\\\EURIQA-NAS\\lab\\CompactTrappedIonModule\\Data\\2019\\06_2019\\30_06_2019\\rb_singlequbit\\batch_000\n",
      "Press Enter to submit the next batch\n",
      "Batch 1 succeeded!\n",
      "Copying data and circuits to \\\\EURIQA-NAS\\lab\\CompactTrappedIonModule\\Data\\2019\\06_2019\\30_06_2019\\rb_singlequbit\\batch_001\n",
      "Press Enter to submit the next batch\n",
      "Batch 2 succeeded!\n",
      "Copying data and circuits to \\\\EURIQA-NAS\\lab\\CompactTrappedIonModule\\Data\\2019\\06_2019\\30_06_2019\\rb_singlequbit\\batch_002\n",
      "Press Enter to submit the next batch\n",
      "Batch 3 Failed. Adding batch number to failed_batches list\n",
      "Press Enter to submit the next batch\n",
      "Batch 4 Failed. Adding batch number to failed_batches list\n"
     ]
    }
   ],
   "source": [
    "for i, ibatch in enumerate(batch_list[0:9]):\n",
    "    batch_rid = []\n",
    "\n",
    "    # Batch submit\n",
    "    for icircuit in ibatch:\n",
    "        experiments[\"Circuit_15ions\"][\"expid\"][\"arguments\"][\"path_to_circuit\"] = str(icircuit)\n",
    "        rid = schedule.submit(pipeline_name=\"main\",\n",
    "                      expid=experiments[\"Circuit_15ions\"]['expid'],\n",
    "                      priority=0,\n",
    "                      due_date=None,\n",
    "                      flush=False)\n",
    "        batch_rid.append(rid)\n",
    "        \n",
    "    # Wait for them all to finish\n",
    "    while rid in schedule.get_status():\n",
    "        time.sleep(0.1)\n",
    "    \n",
    "    #Check to see HDF files saved and no experiment failed\n",
    "    success = True\n",
    "    data_list = []\n",
    "    for irid in batch_rid:\n",
    "        data = list(artiq_data_path.glob(\"**/{:09d}*\".format(irid)))\n",
    "        if len(data)==0:\n",
    "            success = False\n",
    "        else:\n",
    "            data_list.append(data)\n",
    "            \n",
    "    if success is True:\n",
    "        print(\"Batch {0} succeeded!\".format(i))\n",
    "        batch_folder = save_folder / \"batch_{:03d}\".format(i)\n",
    "\n",
    "        print(\"Copying data and circuits to {0}\".format(str(batch_folder)))\n",
    "        if not os.path.exists(str(batch_folder)):\n",
    "            os.mkdir(str(batch_folder))\n",
    "            \n",
    "        for i, irid in enumerate(batch_rid) :\n",
    "            copyfile(str(ibatch[i]), str(batch_folder / (\"{:09d}_\".format(irid) + ibatch[i].name)))\n",
    "            copyfile(str(data_list[i][0]), str(batch_folder / data_list[i][0].name))        \n",
    "        \n",
    "    else:\n",
    "        print(\"Batch {0} Failed. Adding batch number to failed_batches list\".format(i))\n",
    "        failed_batches.append(i)\n",
    "            \n",
    "    input(\"Press Enter to submit the next batch\")\n",
    "\n",
    "        "
   ]
  },
  {
   "cell_type": "code",
   "execution_count": null,
   "metadata": {
    "collapsed": true
   },
   "outputs": [],
   "source": []
  },
  {
   "cell_type": "code",
   "execution_count": null,
   "metadata": {
    "collapsed": true
   },
   "outputs": [],
   "source": []
  },
  {
   "cell_type": "code",
   "execution_count": null,
   "metadata": {
    "collapsed": true
   },
   "outputs": [],
   "source": []
  },
  {
   "cell_type": "code",
   "execution_count": null,
   "metadata": {
    "collapsed": true
   },
   "outputs": [],
   "source": [
    "# OTHER CELLS THAT MAY OR MAY NOT BE USEFUL BELOW"
   ]
  },
  {
   "cell_type": "code",
   "execution_count": 375,
   "metadata": {
    "collapsed": false
   },
   "outputs": [],
   "source": [
    "# Submitting Loading Scripts for 15 ion\n",
    "rid = schedule.submit(pipeline_name=\"main\",\n",
    "                      expid=experiments[\"Autoload_15ions\"]['expid'],\n",
    "                      priority=0,\n",
    "                      due_date=None,\n",
    "                      flush=False)\n"
   ]
  },
  {
   "cell_type": "code",
   "execution_count": 415,
   "metadata": {
    "collapsed": false
   },
   "outputs": [],
   "source": [
    "# Submit a single Circuit\n",
    "rid = schedule.submit(pipeline_name=\"main\",\n",
    "                      expid=experiments[\"Circuit_15ions\"]['expid'],\n",
    "                      priority=0,\n",
    "                      due_date=None,\n",
    "                      flush=False)\n"
   ]
  },
  {
   "cell_type": "code",
   "execution_count": 274,
   "metadata": {
    "collapsed": false
   },
   "outputs": [],
   "source": [
    "# I can pull globals \n",
    "datasets.get(\"monitor.Lost_Ions.Collision\")\n",
    "\n",
    "# And I can set them \n",
    "datasets.set(\"monitor.Lost_Ions.Collision\", False)"
   ]
  }
 ],
 "metadata": {
  "kernelspec": {
   "display_name": "Python (artiq4)",
   "language": "python",
   "name": "artiq4"
  },
  "language_info": {
   "codemirror_mode": {
    "name": "ipython",
    "version": 3
   },
   "file_extension": ".py",
   "mimetype": "text/x-python",
   "name": "python",
   "nbconvert_exporter": "python",
   "pygments_lexer": "ipython3",
   "version": "3.5.5"
  }
 },
 "nbformat": 4,
 "nbformat_minor": 2
}