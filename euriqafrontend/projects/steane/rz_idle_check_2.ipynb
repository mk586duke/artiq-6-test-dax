{
 "cells": [
  {
   "cell_type": "code",
   "execution_count": 1,
   "metadata": {},
   "outputs": [
    {
     "name": "stderr",
     "output_type": "stream",
     "text": [
      "/home/mcetina/git/euriqa-artiq/euriqafrontend/__init__.py:29: UserWarning: No environment variable (EURIQA_NAS_DIR) defined for where the EURIQA NAS is mounted. I guessed '/media/euriqa-nas/' based on your platform\n",
      "  _ENVIRONMENT_VARIABLE_NAS_DIR, _nas_dir\n"
     ]
    }
   ],
   "source": [
    "import pathlib\n",
    "import typing\n",
    "import os\n",
    "import json\n",
    "import pickle\n",
    "\n",
    "import sipyco.pyon as pyon\n",
    "import qiskit.pulse as qp\n",
    "import numpy as np\n",
    "import euriqabackend.waveforms.conversions as wf_convert\n",
    "import matplotlib\n",
    "import matplotlib.pyplot as plt\n",
    "\n",
    "import euriqafrontend.interactive.rfsoc.qiskit_backend as qbe\n",
    "import euriqafrontend.interactive.rfsoc.submit as rfsoc_submit\n",
    "\n",
    "import euriqabackend.waveforms.single_qubit as single_qb_wf\n",
    "import euriqabackend.waveforms.multi_qubit as multi_qb_wf\n",
    "import qiskit.pulse as qp\n",
    "\n",
    "import functools\n",
    "import euriqafrontend.circuits.circuit_plotter as plotter\n",
    "from qiskit import QuantumCircuit\n",
    "import euriqabackend.waveforms.conversions as conv\n",
    "import pulsecompiler.qiskit.transforms.gate_barrier as barrier\n",
    "import qiskit.compiler as q_compile"
   ]
  },
  {
   "cell_type": "code",
   "execution_count": 2,
   "metadata": {},
   "outputs": [
    {
     "name": "stdout",
     "output_type": "stream",
     "text": [
      "/home/mcetina/git/euriqa-artiq/euriqafrontend/settings/rf_calibration.json\n"
     ]
    }
   ],
   "source": [
    "#############################################\n",
    "### Channel definitions ######\n",
    "from offlinemodule.interface import RFSOCoffline\n",
    "\n",
    "offlineModule = RFSOCoffline()\n",
    "offlineModule.build()\n",
    "offlineModule.prepare()\n",
    "qp_backend = offlineModule.qiskit_backend\n",
    "master_ip = offlineModule.master_ip"
   ]
  },
  {
   "cell_type": "code",
   "execution_count": 3,
   "metadata": {},
   "outputs": [],
   "source": [
    "def center_to_19_pair(fnc):\n",
    "    def _decorated_fnc(ions:typing.Sequence[int], th:float, *args, **kwargs):\n",
    "        return fnc([i-9 for i in ions], theta=th*0.5, *args, **kwargs)\n",
    "    return _decorated_fnc\n",
    "\n",
    "def center_to_19_idx(fnc):\n",
    "    def _decorated_fnc(ion_index:int, *args, **kwargs):\n",
    "        return fnc(ion_index-9, *args, **kwargs)\n",
    "    return _decorated_fnc\n",
    "\n",
    "def myrz(ion_index:int, angle:float):\n",
    "    return single_qb_wf.rz(ion_index, -angle, backend=qp_backend)\n",
    "\n",
    "single_qubit_gates = {\n",
    "    \"id\": single_qb_wf.id_gate,\n",
    "    \"r\": center_to_19_idx(functools.partial(single_qb_wf.sk1_gaussian, backend = qp_backend, ind_amp_multiplier = 1.0)),\n",
    "    \"rx\": center_to_19_idx(functools.partial(single_qb_wf.sk1_gaussian, phi=-np.pi / 2, backend = qp_backend, ind_amp_multiplier = 1.0)),\n",
    "    \"ry\": center_to_19_idx(functools.partial(single_qb_wf.sk1_gaussian, phi=0, backend = qp_backend, ind_amp_multiplier = 1.0)),\n",
    "    \"rz\": center_to_19_idx(myrz)\n",
    "}\n",
    "\n",
    "multi_qubit_gates = {\n",
    "    \"rxx\": center_to_19_pair(functools.partial(multi_qb_wf.xx_am_gate, backend = qp_backend)),\n",
    "}\n",
    "\n",
    "from pulsecompiler.qiskit.instruction_schedule import IonInstructionScheduleMap\n",
    "\n",
    "instruction_schedule = IonInstructionScheduleMap(\n",
    "        offlineModule.zero_qiskit_backend,\n",
    "        single_qubit_gates,\n",
    "        multi_qubit_gates\n",
    "    )\n",
    "instruction_schedule._backend = qp"
   ]
  },
  {
   "cell_type": "code",
   "execution_count": 21,
   "metadata": {},
   "outputs": [
    {
     "data": {
      "text/plain": [
       "11"
      ]
     },
     "execution_count": 21,
     "metadata": {},
     "output_type": "execute_result"
    }
   ],
   "source": [
    "nq = 19\n",
    "layers = 3\n",
    "import numpy as np\n",
    "\n",
    "scheduled_scan_circuits=[]\n",
    "\n",
    "scan_values = np.arange(0,2*np.pi, 2*np.pi/11)\n",
    "\n",
    "for theta in scan_values:\n",
    "\n",
    "    qiskit_circuit = QuantumCircuit(nq)                    \n",
    "\n",
    "    for i in range(nq):\n",
    "        qiskit_circuit.ry(wf_convert.hack_angle(np.pi/2,0),i)\n",
    "\n",
    "    qiskit_circuit.barrier()\n",
    "    \n",
    "    for layer in range(layers):\n",
    "        for i in range(nq-1):\n",
    "            qiskit_circuit.rxx(0,i,i+1)\n",
    "            qiskit_circuit.barrier()\n",
    "\n",
    "    for i in range(nq):\n",
    "        qiskit_circuit.rz(theta,i)\n",
    "        qiskit_circuit.ry(wf_convert.hack_angle(-np.pi/2,layers),i)\n",
    "\n",
    "    circuit_sequential = barrier.BarrierBetweenGates().run_circuit(qiskit_circuit)\n",
    "    circuit_scheduled = q_compile.schedule(\n",
    "        circuit_sequential,\n",
    "        qp_backend, inst_map=instruction_schedule\n",
    "    )\n",
    "    scheduled_scan_circuits.append(circuit_scheduled)    \n",
    "\n",
    "scheduled_scan_circuits.__len__()"
   ]
  },
  {
   "cell_type": "code",
   "execution_count": 22,
   "metadata": {},
   "outputs": [
    {
     "name": "stderr",
     "output_type": "stream",
     "text": [
      "Ion Backend defaults are not currently implemented\n"
     ]
    }
   ],
   "source": [
    "rid = rfsoc_submit.submit_schedule(\n",
    "        scheduled_scan_circuits,\n",
    "        master_ip,\n",
    "        qp_backend,\n",
    "        experiment_kwargs={\n",
    "            \"xlabel\": \"red and blue detuning\",\n",
    "            \"x_values\": pyon.encode(scan_values),            \n",
    "            \"default_sync\": False,\n",
    "            \"num_shots\": 500,\n",
    "            \"PMT Input String\": \"-1:17\",\n",
    "            \"lost_ion_monitor\": True,\n",
    "            \"schedule_transform_aom_nonlinearity\": True,\n",
    "            \"schedule_transform_keep_global_beam_on\": False,\n",
    "            \"schedule_transform_pad_schedule\": True,\n",
    "            \"schedule_transform_fill_unused_channels\": True,\n",
    "            \"do_sbc\": True,\n",
    "            \"do_SBC\": False,\n",
    "            \"priority\": 0,\n",
    "            \"record_upload_sequence\": False,\n",
    "            \"auto_reload\": True,\n",
    "            \"lost_ion_monitor\": True,\n",
    "            \"auto_reload_when_lost_ion\": True\n",
    "\n",
    "        })\n",
    "#rfsoc_submit.wait_for_completion(rid)"
   ]
  },
  {
   "cell_type": "code",
   "execution_count": 19,
   "metadata": {},
   "outputs": [
    {
     "name": "stdout",
     "output_type": "stream",
     "text": [
      "448785\n"
     ]
    }
   ],
   "source": [
    "print(rid)"
   ]
  },
  {
   "cell_type": "code",
   "execution_count": 6,
   "metadata": {},
   "outputs": [],
   "source": [
    "import datetime\n",
    "server = pathlib.Path(r\"/media/euriqa-nas/CompactTrappedIonModule\")\n",
    "data_path = server / \"Data\" / \"artiq_data\" "
   ]
  },
  {
   "cell_type": "code",
   "execution_count": 7,
   "metadata": {},
   "outputs": [],
   "source": [
    "data = plotter.get_binary_data(data_path,rid,date=datetime.date.today())\n",
    "#plotter.plot_correlations(data,register_index=plot_index, title = \"RID {0}\".format(rid));\n",
    "#plotter.plot_parity(data,register_index=register.index[plaquette_all], title = \"RID {0}\".format(rid));\n",
    "\n",
    "#### plot scanned values in GUI\n",
    "x_label = \"phase (rad)\""
   ]
  },
  {
   "cell_type": "code",
   "execution_count": 8,
   "metadata": {},
   "outputs": [
    {
     "data": {
      "image/png": "[encoded data removed]",
      "text/plain": [
       "<Figure size 432x288 with 1 Axes>"
      ]
     },
     "metadata": {
      "needs_background": "light"
     },
     "output_type": "display_data"
    }
   ],
   "source": [
    "for i in range(1,19,1):\n",
    "    plt.plot(scan_values,np.mean(data[i,:,:],axis=0))"
   ]
  },
  {
   "cell_type": "code",
   "execution_count": 123,
   "metadata": {},
   "outputs": [
    {
     "name": "stderr",
     "output_type": "stream",
     "text": [
      "/nix/store/ssxs7bs9pdfk5psn0bj0sybhlxk3qhla-python3-3.7.6-env/lib/python3.7/site-packages/scipy/optimize/minpack.py:808: OptimizeWarning: Covariance of the parameters could not be estimated\n",
      "  category=OptimizeWarning)\n"
     ]
    }
   ],
   "source": [
    "import scipy.optimize as opt\n",
    "fits=[]\n",
    "for i in range(0,19,1):\n",
    "    fits.append((opt.curve_fit((lambda x, o, c, x0: o + 0.5*(1-np.cos(x-x0))),scan_values,np.mean(data[i,:,:],axis=0)))[0])"
   ]
  },
  {
   "cell_type": "code",
   "execution_count": 124,
   "metadata": {},
   "outputs": [
    {
     "data": {
      "text/plain": [
       "[<matplotlib.lines.Line2D at 0x7fe7663c0bd0>]"
      ]
     },
     "execution_count": 124,
     "metadata": {},
     "output_type": "execute_result"
    },
    {
     "data": {
      "image/png": "[encoded data removed]",
      "text/plain": [
       "<Figure size 432x288 with 1 Axes>"
      ]
     },
     "metadata": {
      "needs_background": "light"
     },
     "output_type": "display_data"
    }
   ],
   "source": [
    "# -10 shift => -0.42 rad / -10 Hz shift\n",
    "plt.plot(np.arange(1,20,1),np.array(fits)[:,-1])"
   ]
  },
  {
   "cell_type": "code",
   "execution_count": 125,
   "metadata": {},
   "outputs": [
    {
     "data": {
      "text/plain": [
       "[<matplotlib.lines.Line2D at 0x7fe762b9fed0>]"
      ]
     },
     "execution_count": 125,
     "metadata": {},
     "output_type": "execute_result"
    },
    {
     "data": {
      "image/png": "[encoded data removed]",
      "text/plain": [
       "<Figure size 432x288 with 1 Axes>"
      ]
     },
     "metadata": {
      "needs_background": "light"
     },
     "output_type": "display_data"
    }
   ],
   "source": [
    "plt.plot(np.arange(1,20,1),-np.array(fits)[:,-1]*10/0.42*13/19*145/240,'.')"
   ]
  },
  {
   "cell_type": "code",
   "execution_count": 127,
   "metadata": {},
   "outputs": [
    {
     "name": "stdout",
     "output_type": "stream",
     "text": [
      "19\n",
      "[-30.35998894 -37.2604714  -33.82780758 -36.32062729 -37.88181702\n",
      " -40.7994402  -41.14702279 -43.2936497  -45.78994722 -45.20035607\n",
      " -45.03723674 -46.26961064 -46.00962598 -48.6849952  -48.17695739\n",
      " -47.22631663 -47.86301368 -47.84970615 -46.60310786]\n"
     ]
    }
   ],
   "source": [
    "f0s = [-26.1481, -29.7638, -30.8977, -33.3153, -35.6055, -36.4602, -38.2603, -40.5437, -41.1401, -42.0204, -42.1296, -43.0361, -42.7806, -44.3842, -44.5787, -44.728, -44.4603, -44.504, -43.4087]\n",
    "print(len(f0s))\n",
    "corr = -np.array(fits)[:,-1]*10/0.42*13/19*145/240 - 3.5\n",
    "print(corr + f0s)"
   ]
  },
  {
   "cell_type": "code",
   "execution_count": 90,
   "metadata": {},
   "outputs": [
    {
     "data": {
      "image/png": "[encoded data removed]",
      "text/plain": [
       "<Figure size 432x288 with 1 Axes>"
      ]
     },
     "metadata": {
      "needs_background": "light"
     },
     "output_type": "display_data"
    }
   ],
   "source": [
    "raw_data = plotter.get_raw_counts(data_path,rid,date=datetime.date.today())\n",
    "for i in range(1,14,1):\n",
    "    plt.hist(np.ndarray.flatten(raw_data[i,:,:]))"
   ]
  },
  {
   "cell_type": "code",
   "execution_count": null,
   "metadata": {},
   "outputs": [],
   "source": []
  }
 ],
 "metadata": {
  "kernelspec": {
   "display_name": "Python3 - EURIQA_python_environment",
   "language": "python",
   "name": "ipython_EURIQA_python_environment"
  },
  "language_info": {
   "codemirror_mode": {
    "name": "ipython",
    "version": 3
   },
   "file_extension": ".py",
   "mimetype": "text/x-python",
   "name": "python",
   "nbconvert_exporter": "python",
   "pygments_lexer": "ipython3",
   "version": "3.7.6"
  },
  "orig_nbformat": 4
 },
 "nbformat": 4,
 "nbformat_minor": 2
}
