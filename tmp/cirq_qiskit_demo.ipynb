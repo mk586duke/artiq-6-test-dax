{
 "cells": [
  {
   "cell_type": "code",
   "execution_count": 1,
   "metadata": {},
   "outputs": [
    {
     "name": "stderr",
     "output_type": "stream",
     "text": [
      "/home/euriqa/git/euriqa-artiq/euriqafrontend/__init__.py:29: UserWarning: No environment variable (EURIQA_NAS_DIR) defined for where the EURIQA NAS is mounted. I guessed '/media/euriqa-nas/' based on your platform\n",
      "  _ENVIRONMENT_VARIABLE_NAS_DIR, _nas_dir\n",
      "/nix/store/80jj25g01mk4xlqax7j8p0dn9rp3a524-python3-3.7.6-env/lib/python3.7/site-packages/qiskit/__init__.py:64: RuntimeWarning: Could not import the Aer provider from the qiskit-aer package. Install qiskit-aer or check your installation.\n",
      "  RuntimeWarning)\n",
      "Converting Cirq -> Qiskit can cause phase mismatches in the unitary. It is experimental & temporary, use with caution!\n"
     ]
    }
   ],
   "source": [
    "import pulsecompiler.qiskit.transforms.gate_barrier as barrierimport cirq\n",
    "import sys\n",
    "import numpy as np\n",
    "# temporary workarounds b/c jaqalpaw doesn't seem to work happily w/ the jupyter shell in the nix scripts...\n",
    "sys.path.insert(0, \"/home/euriqa/git/euriqa-artiq\")\n",
    "sys.path.insert(0, \"/tmp/pulsecompiler-master-mts-100cd1ae\")\n",
    "sys.path.insert(0, \"/tmp/jaqalpaw-mirror/src\")\n",
    "\n",
    "import euriqafrontend.circuits.cirq_converter as cirq_conv\n",
    "\n",
    "cirq_circuit = cirq.Circuit()\n",
    "qb0 = cirq.LineQubit(0)\n",
    "# qb1 = cirq.LineQubit(1)\n",
    "cirq_circuit.append(cirq.rx(np.pi/2).on(qb0))\n",
    "cirq_circuit.append(cirq.rx(np.pi/2).on(qb1))\n",
    "\n",
    "qiskit_circuit = cirq_conv.convert_cirq_to_qiskit(cirq_circuit)"
   ]
  },
  {
   "cell_type": "code",
   "execution_count": 2,
   "metadata": {},
   "outputs": [
    {
     "name": "stdout",
     "output_type": "stream",
     "text": [
      "0: ───Rx(0.5π)───\n",
      "\n",
      "1: ───Rx(0.5π)───\n",
      "      ┌─────────┐\n",
      "q0_0: ┤ RX(π/2) ├\n",
      "      ├─────────┤\n",
      "q0_1: ┤ RX(π/2) ├\n",
      "      └─────────┘\n"
     ]
    }
   ],
   "source": [
    "print(cirq_circuit)\n",
    "print(qiskit_circuit)\n",
    "\n",
    "import pulsecompiler.qiskit.transforms.gate_barrier as barrier"
   ]
  },
  {
   "cell_type": "code",
   "execution_count": 3,
   "metadata": {},
   "outputs": [
    {
     "name": "stdout",
     "output_type": "stream",
     "text": [
      "      ┌─────────┐ ░             ░ \n",
      "q0_0: ┤ RX(π/2) ├─░─────────────░─\n",
      "      └─────────┘ ░ ┌─────────┐ ░ \n",
      "q0_1: ────────────░─┤ RX(π/2) ├─░─\n",
      "                  ░ └─────────┘ ░ \n"
     ]
    }
   ],
   "source": [
    "print(barrier.BarrierBetweenGates().run_circuit(qiskit_circuit))"
   ]
  },
  {
   "cell_type": "code",
   "execution_count": 4,
   "metadata": {},
   "outputs": [
    {
     "ename": "ModuleNotFoundError",
     "evalue": "No module named 'aenum'",
     "output_type": "error",
     "traceback": [
      "\u001b[0;31m---------------------------------------------------------------------------\u001b[0m",
      "\u001b[0;31mModuleNotFoundError\u001b[0m                       Traceback (most recent call last)",
      "\u001b[0;32m<ipython-input-4-2d305c311f45>\u001b[0m in \u001b[0;36m<module>\u001b[0;34m\u001b[0m\n\u001b[0;32m----> 1\u001b[0;31m \u001b[0;32mimport\u001b[0m \u001b[0meuriqafrontend\u001b[0m\u001b[0;34m.\u001b[0m\u001b[0minteractive\u001b[0m\u001b[0;34m.\u001b[0m\u001b[0mrfsoc\u001b[0m\u001b[0;34m.\u001b[0m\u001b[0mqiskit_backend\u001b[0m \u001b[0;32mas\u001b[0m \u001b[0mrfsoc_qiskit\u001b[0m\u001b[0;34m\u001b[0m\u001b[0;34m\u001b[0m\u001b[0m\n\u001b[0m\u001b[1;32m      2\u001b[0m \u001b[0;34m\u001b[0m\u001b[0m\n\u001b[1;32m      3\u001b[0m \u001b[0mmaster_ip\u001b[0m \u001b[0;34m=\u001b[0m \u001b[0;34m\"192.168.78.152\"\u001b[0m\u001b[0;34m\u001b[0m\u001b[0;34m\u001b[0m\u001b[0m\n\u001b[1;32m      4\u001b[0m \u001b[0mnum_ions\u001b[0m \u001b[0;34m=\u001b[0m \u001b[0;36m1\u001b[0m\u001b[0;34m\u001b[0m\u001b[0;34m\u001b[0m\u001b[0m\n\u001b[1;32m      5\u001b[0m \u001b[0mqiskit_backend\u001b[0m \u001b[0;34m=\u001b[0m \u001b[0mrfsoc_qiskit\u001b[0m\u001b[0;34m.\u001b[0m\u001b[0mget_default_qiskit_backend\u001b[0m\u001b[0;34m(\u001b[0m\u001b[0;34m\"192.168.78.152\"\u001b[0m\u001b[0;34m,\u001b[0m \u001b[0mnum_ions\u001b[0m\u001b[0;34m=\u001b[0m\u001b[0mnum_ions\u001b[0m\u001b[0;34m)\u001b[0m\u001b[0;34m\u001b[0m\u001b[0;34m\u001b[0m\u001b[0m\n",
      "\u001b[0;32m~/git/euriqa-artiq/euriqafrontend/interactive/rfsoc/qiskit_backend.py\u001b[0m in \u001b[0;36m<module>\u001b[0;34m\u001b[0m\n\u001b[1;32m      6\u001b[0m \u001b[0;32mimport\u001b[0m \u001b[0mpulsecompiler\u001b[0m\u001b[0;34m.\u001b[0m\u001b[0mqiskit\u001b[0m\u001b[0;34m.\u001b[0m\u001b[0mbackend\u001b[0m \u001b[0;32mas\u001b[0m \u001b[0mpulse_backend\u001b[0m\u001b[0;34m\u001b[0m\u001b[0;34m\u001b[0m\u001b[0m\n\u001b[1;32m      7\u001b[0m \u001b[0;34m\u001b[0m\u001b[0m\n\u001b[0;32m----> 8\u001b[0;31m \u001b[0;32mimport\u001b[0m \u001b[0meuriqafrontend\u001b[0m\u001b[0;34m.\u001b[0m\u001b[0mmodules\u001b[0m\u001b[0;34m.\u001b[0m\u001b[0mrfsoc\u001b[0m \u001b[0;32mas\u001b[0m \u001b[0mrfsoc_module\u001b[0m\u001b[0;34m\u001b[0m\u001b[0;34m\u001b[0m\u001b[0m\n\u001b[0m\u001b[1;32m      9\u001b[0m \u001b[0;32mimport\u001b[0m \u001b[0meuriqafrontend\u001b[0m\u001b[0;34m.\u001b[0m\u001b[0msettings\u001b[0m\u001b[0;34m.\u001b[0m\u001b[0mcalibration_box\u001b[0m \u001b[0;32mas\u001b[0m \u001b[0mcalibration_box\u001b[0m\u001b[0;34m\u001b[0m\u001b[0;34m\u001b[0m\u001b[0m\n\u001b[1;32m     10\u001b[0m \u001b[0;32mimport\u001b[0m \u001b[0meuriqafrontend\u001b[0m\u001b[0;34m.\u001b[0m\u001b[0minteractive\u001b[0m\u001b[0;34m.\u001b[0m\u001b[0martiq_clients\u001b[0m \u001b[0;32mas\u001b[0m \u001b[0martiq_clients\u001b[0m\u001b[0;34m\u001b[0m\u001b[0;34m\u001b[0m\u001b[0m\n",
      "\u001b[0;32m~/git/euriqa-artiq/euriqafrontend/modules/rfsoc.py\u001b[0m in \u001b[0;36m<module>\u001b[0;34m\u001b[0m\n\u001b[1;32m     16\u001b[0m \u001b[0;32mimport\u001b[0m \u001b[0mjaqalpaw\u001b[0m\u001b[0;34m.\u001b[0m\u001b[0mutilities\u001b[0m\u001b[0;34m.\u001b[0m\u001b[0mparameters\u001b[0m \u001b[0;32mas\u001b[0m \u001b[0mOctetParams\u001b[0m\u001b[0;34m\u001b[0m\u001b[0;34m\u001b[0m\u001b[0m\n\u001b[1;32m     17\u001b[0m \u001b[0;32mimport\u001b[0m \u001b[0mpulsecompiler\u001b[0m\u001b[0;34m.\u001b[0m\u001b[0mqiskit\u001b[0m\u001b[0;34m.\u001b[0m\u001b[0mbackend\u001b[0m \u001b[0;32mas\u001b[0m \u001b[0mqbe\u001b[0m\u001b[0;34m\u001b[0m\u001b[0;34m\u001b[0m\u001b[0m\n\u001b[0;32m---> 18\u001b[0;31m \u001b[0;32mimport\u001b[0m \u001b[0mpulsecompiler\u001b[0m\u001b[0;34m.\u001b[0m\u001b[0mqiskit\u001b[0m\u001b[0;34m.\u001b[0m\u001b[0mpulses\u001b[0m \u001b[0;32mas\u001b[0m \u001b[0mpc_pulse\u001b[0m\u001b[0;34m\u001b[0m\u001b[0;34m\u001b[0m\u001b[0m\n\u001b[0m\u001b[1;32m     19\u001b[0m \u001b[0;32mimport\u001b[0m \u001b[0mpulsecompiler\u001b[0m\u001b[0;34m.\u001b[0m\u001b[0mqiskit\u001b[0m\u001b[0;34m.\u001b[0m\u001b[0mschedule_converter\u001b[0m \u001b[0;32mas\u001b[0m \u001b[0moctetconverter\u001b[0m\u001b[0;34m\u001b[0m\u001b[0;34m\u001b[0m\u001b[0m\n\u001b[1;32m     20\u001b[0m \u001b[0;32mimport\u001b[0m \u001b[0mpulsecompiler\u001b[0m\u001b[0;34m.\u001b[0m\u001b[0mrfsoc\u001b[0m\u001b[0;34m.\u001b[0m\u001b[0mstructures\u001b[0m\u001b[0;34m.\u001b[0m\u001b[0mchannel_map\u001b[0m \u001b[0;32mas\u001b[0m \u001b[0mrfsoc_mapping\u001b[0m\u001b[0;34m\u001b[0m\u001b[0;34m\u001b[0m\u001b[0m\n",
      "\u001b[0;32m/tmp/pulsecompiler-master-mts-100cd1ae/pulsecompiler/qiskit/pulses.py\u001b[0m in \u001b[0;36m<module>\u001b[0;34m\u001b[0m\n\u001b[1;32m      7\u001b[0m \u001b[0;32mimport\u001b[0m \u001b[0mtyping\u001b[0m\u001b[0;34m\u001b[0m\u001b[0;34m\u001b[0m\u001b[0m\n\u001b[1;32m      8\u001b[0m \u001b[0;34m\u001b[0m\u001b[0m\n\u001b[0;32m----> 9\u001b[0;31m \u001b[0;32mimport\u001b[0m \u001b[0maenum\u001b[0m\u001b[0;34m\u001b[0m\u001b[0;34m\u001b[0m\u001b[0m\n\u001b[0m\u001b[1;32m     10\u001b[0m \u001b[0;32mimport\u001b[0m \u001b[0mnumpy\u001b[0m \u001b[0;32mas\u001b[0m \u001b[0mnp\u001b[0m\u001b[0;34m\u001b[0m\u001b[0;34m\u001b[0m\u001b[0m\n\u001b[1;32m     11\u001b[0m \u001b[0;32mimport\u001b[0m \u001b[0mqiskit\u001b[0m\u001b[0;34m.\u001b[0m\u001b[0mqobj\u001b[0m\u001b[0;34m.\u001b[0m\u001b[0mconverters\u001b[0m\u001b[0;34m.\u001b[0m\u001b[0mpulse_instruction\u001b[0m \u001b[0;32mas\u001b[0m \u001b[0mpulse_converter\u001b[0m\u001b[0;34m\u001b[0m\u001b[0;34m\u001b[0m\u001b[0m\n",
      "\u001b[0;31mModuleNotFoundError\u001b[0m: No module named 'aenum'"
     ]
    }
   ],
   "source": [
    "import euriqafrontend.interactive.rfsoc.qiskit_backend as rfsoc_qiskit\n",
    "\n",
    "master_ip = \"192.168.78.152\"\n",
    "num_ions = 1\n",
    "qiskit_backend = rfsoc_qiskit.get_default_qiskit_backend(\"192.168.78.152\", num_ions=num_ions)"
   ]
  },
  {
   "cell_type": "code",
   "execution_count": null,
   "metadata": {},
   "outputs": [],
   "source": [
    "import pulsecompiler.qiskit.transforms.gate_barrier as barrier\n",
    "import qiskit.compiler as q_compile\n",
    "import euriqabackend.waveforms.instruction_schedule as eur_inst_sched\n",
    "\n",
    "instruction_schedule = eur_insts.EURIQAInstructionScheduleMap(\n",
    "        qiskit_backend_with_gate_solutions,\n",
    "        eur_insts.SINGLE_QUBIT_FUNCTION_MAP,\n",
    "        eur_insts.MULTI_QUBIT_FUNCTION_MAP,\n",
    "    )\n",
    "\n",
    "circuit_sequential = barrier.BarrierBetweenGates().run_circuit(circuit_transpiled)\n",
    "circuit_scheduled = q_compile.schedule(\n",
    "    circuit_sequential, ion_backend, inst_map=instruction_schedule\n",
    ")"
   ]
  },
  {
   "cell_type": "code",
   "execution_count": null,
   "metadata": {},
   "outputs": [],
   "source": [
    "# submit converted qiskit circuit\n",
    "import euriqafrontend.interactive.rfsoc.submit as rfsoc_submit\n",
    "\n",
    "\n",
    "rfsoc_submit.submit_schedule(qiskit_schedule, master_ip, qiskit_backend, experiment_kwargs={\"lost_ion_monitor\": False})"
   ]
  }
 ],
 "metadata": {
  "kernelspec": {
   "display_name": "Python3 - EURIQA_python_environment",
   "language": "python",
   "name": "ipython_euriqa_python_environment"
  },
  "language_info": {
   "codemirror_mode": {
    "name": "ipython",
    "version": 3
   },
   "file_extension": ".py",
   "mimetype": "text/x-python",
   "name": "python",
   "nbconvert_exporter": "python",
   "pygments_lexer": "ipython3",
   "version": "3.7.6"
  }
 },
 "nbformat": 4,
 "nbformat_minor": 4
}
